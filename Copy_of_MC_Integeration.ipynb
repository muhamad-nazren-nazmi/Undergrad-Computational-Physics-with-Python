{
  "nbformat": 4,
  "nbformat_minor": 0,
  "metadata": {
    "colab": {
      "provenance": []
    },
    "kernelspec": {
      "name": "python3",
      "display_name": "Python 3"
    }
  },
  "cells": [
    {
      "cell_type": "code",
      "metadata": {
        "id": "ZXC8pAUB6wHQ"
      },
      "source": [
        "import numpy as np\n",
        "from matplotlib import pyplot as plt"
      ],
      "execution_count": null,
      "outputs": []
    },
    {
      "cell_type": "code",
      "metadata": {
        "id": "NbyeBCjs600S"
      },
      "source": [
        "## 3x^2\n",
        "def f1(x):\n",
        "  return 3 * np.power(x, 2)\n",
        "# intergearion between 0 -> 1 is equal to 1\n",
        "## x^3/2 + ln(x^2)\n",
        "def f2(x):\n",
        "  return np.power(x,3)/2 + np.log(np.power(x,2))"
      ],
      "execution_count": null,
      "outputs": []
    },
    {
      "cell_type": "code",
      "metadata": {
        "id": "gzVjqo4G__gK"
      },
      "source": [],
      "execution_count": null,
      "outputs": []
    },
    {
      "cell_type": "code",
      "metadata": {
        "id": "_tSPZXeW7wlr"
      },
      "source": [
        "a = 0\n",
        "b = 1\n",
        "\n",
        "xls = np.linspace(a,b, 100)\n",
        "yls = f1(xls)"
      ],
      "execution_count": null,
      "outputs": []
    },
    {
      "cell_type": "code",
      "metadata": {
        "id": "GF9Im_pG78V9",
        "colab": {
          "base_uri": "https://localhost:8080/",
          "height": 282
        },
        "outputId": "831d2c4d-c2cf-4c21-b7a7-554c6f2c0e34"
      },
      "source": [
        "plt.plot(xls, yls)"
      ],
      "execution_count": null,
      "outputs": [
        {
          "output_type": "execute_result",
          "data": {
            "text/plain": [
              "[<matplotlib.lines.Line2D at 0x7f637148fd10>]"
            ]
          },
          "metadata": {
            "tags": []
          },
          "execution_count": 4
        },
        {
          "output_type": "display_data",
          "data": {
            "image/png": "[encoded data removed]",
            "text/plain": [
              "<Figure size 432x288 with 1 Axes>"
            ]
          },
          "metadata": {
            "tags": [],
            "needs_background": "light"
          }
        }
      ]
    },
    {
      "cell_type": "code",
      "metadata": {
        "id": "MWVJWqiE8BBm"
      },
      "source": [
        "n = 100\n",
        "xsample = np.random.random(size = n)"
      ],
      "execution_count": null,
      "outputs": []
    },
    {
      "cell_type": "code",
      "metadata": {
        "id": "4CFL8IC28WI6",
        "colab": {
          "base_uri": "https://localhost:8080/",
          "height": 418
        },
        "outputId": "4c0a0cc2-a84c-4aed-80bf-5779f4b2826f"
      },
      "source": [
        "plt.hist(xsample, bins=25)"
      ],
      "execution_count": null,
      "outputs": [
        {
          "output_type": "execute_result",
          "data": {
            "text/plain": [
              "(array([3., 5., 5., 5., 3., 3., 5., 5., 1., 6., 4., 6., 1., 8., 5., 1., 4.,\n",
              "        9., 2., 3., 5., 3., 4., 2., 2.]),\n",
              " array([0.00283458, 0.04237458, 0.08191457, 0.12145456, 0.16099456,\n",
              "        0.20053455, 0.24007454, 0.27961454, 0.31915453, 0.35869452,\n",
              "        0.39823452, 0.43777451, 0.47731451, 0.5168545 , 0.55639449,\n",
              "        0.59593449, 0.63547448, 0.67501447, 0.71455447, 0.75409446,\n",
              "        0.79363445, 0.83317445, 0.87271444, 0.91225444, 0.95179443,\n",
              "        0.99133442]),\n",
              " <a list of 25 Patch objects>)"
            ]
          },
          "metadata": {
            "tags": []
          },
          "execution_count": 6
        },
        {
          "output_type": "display_data",
          "data": {
            "image/png": "[encoded data removed]",
            "text/plain": [
              "<Figure size 432x288 with 1 Axes>"
            ]
          },
          "metadata": {
            "tags": [],
            "needs_background": "light"
          }
        }
      ]
    },
    {
      "cell_type": "code",
      "metadata": {
        "id": "k7QCYiv58Uic",
        "colab": {
          "base_uri": "https://localhost:8080/"
        },
        "outputId": "50bd44cd-647b-408d-92f0-c1b83fd4045c"
      },
      "source": [
        "# MC integeration formula\n",
        "interval = ((b-a)/n) * (sum(f1(xsample)))\n",
        "interval"
      ],
      "execution_count": null,
      "outputs": [
        {
          "output_type": "execute_result",
          "data": {
            "text/plain": [
              "0.9042478465542929"
            ]
          },
          "metadata": {
            "tags": []
          },
          "execution_count": 7
        }
      ]
    },
    {
      "cell_type": "code",
      "metadata": {
        "id": "H1wVeGdk8wc4",
        "colab": {
          "base_uri": "https://localhost:8080/"
        },
        "outputId": "7be5d79e-414c-4f83-cb1a-351e461fa8f6"
      },
      "source": [
        "pererr = (1-interval)/1 * 100\n",
        "pererr"
      ],
      "execution_count": null,
      "outputs": [
        {
          "output_type": "execute_result",
          "data": {
            "text/plain": [
              "9.575215344570708"
            ]
          },
          "metadata": {
            "tags": []
          },
          "execution_count": 8
        }
      ]
    },
    {
      "cell_type": "code",
      "metadata": {
        "id": "GcEhBpTH-BP2"
      },
      "source": [
        "xgausssample = []\n",
        "n = 1000\n",
        "\n",
        "while len(xgausssample) < n:\n",
        "  x = np.random.normal(loc=0.5, scale=0.4)\n",
        "  if x > a and x < b:\n",
        "    xgausssample.append(x)"
      ],
      "execution_count": null,
      "outputs": []
    },
    {
      "cell_type": "code",
      "metadata": {
        "id": "AelHiwa1-jQQ",
        "colab": {
          "base_uri": "https://localhost:8080/",
          "height": 435
        },
        "outputId": "b3624bcf-5093-4e20-dba7-baad71897e0d"
      },
      "source": [
        "plt.hist(xgausssample, bins = 25)"
      ],
      "execution_count": null,
      "outputs": [
        {
          "output_type": "execute_result",
          "data": {
            "text/plain": [
              "(array([30., 24., 41., 35., 42., 49., 47., 48., 55., 50., 49., 46., 57.,\n",
              "        50., 39., 46., 42., 44., 37., 33., 34., 29., 26., 24., 23.]),\n",
              " array([6.59982204e-04, 4.05016125e-02, 8.03432429e-02, 1.20184873e-01,\n",
              "        1.60026504e-01, 1.99868134e-01, 2.39709764e-01, 2.79551395e-01,\n",
              "        3.19393025e-01, 3.59234655e-01, 3.99076286e-01, 4.38917916e-01,\n",
              "        4.78759546e-01, 5.18601177e-01, 5.58442807e-01, 5.98284437e-01,\n",
              "        6.38126068e-01, 6.77967698e-01, 7.17809328e-01, 7.57650959e-01,\n",
              "        7.97492589e-01, 8.37334219e-01, 8.77175850e-01, 9.17017480e-01,\n",
              "        9.56859110e-01, 9.96700741e-01]),\n",
              " <a list of 25 Patch objects>)"
            ]
          },
          "metadata": {
            "tags": []
          },
          "execution_count": 10
        },
        {
          "output_type": "display_data",
          "data": {
            "image/png": "[encoded data removed]",
            "text/plain": [
              "<Figure size 432x288 with 1 Axes>"
            ]
          },
          "metadata": {
            "tags": [],
            "needs_background": "light"
          }
        }
      ]
    },
    {
      "cell_type": "code",
      "metadata": {
        "id": "zPrXrTHF-jDX",
        "colab": {
          "base_uri": "https://localhost:8080/"
        },
        "outputId": "a6a1b958-568c-4876-966a-34cd90ce8888"
      },
      "source": [
        "gaussinterval = ((b-a)/n) * (sum(f1(xgausssample)))\n",
        "gaussinterval"
      ],
      "execution_count": null,
      "outputs": [
        {
          "output_type": "execute_result",
          "data": {
            "text/plain": [
              "0.8746670455911039"
            ]
          },
          "metadata": {
            "tags": []
          },
          "execution_count": 11
        }
      ]
    },
    {
      "cell_type": "code",
      "metadata": {
        "id": "0L60mGXU88IM",
        "colab": {
          "base_uri": "https://localhost:8080/"
        },
        "outputId": "7e1e0ab4-5a46-495f-a93e-4e8c85c5b97b"
      },
      "source": [
        "nls = [100, 1000, 10000, 100000, 1000000]\n",
        "a = 0\n",
        "b = 1\n",
        "\n",
        "for n in nls:\n",
        "  xsample = np.random.random(size = n)\n",
        "  interval = ((b-a)/n) * (sum(f1(xsample)))\n",
        "  pererr = (1-interval)/1 * 100\n",
        "\n",
        "  print('n: %s intergeration value: %.4f Percentage error: %.3f' % (n, interval, pererr))"
      ],
      "execution_count": null,
      "outputs": [
        {
          "output_type": "stream",
          "text": [
            "n: 100 intergeration value: 0.9900 Percentage error: 0.995\n",
            "n: 1000 intergeration value: 1.0343 Percentage error: -3.430\n",
            "n: 10000 intergeration value: 1.0001 Percentage error: -0.012\n",
            "n: 100000 intergeration value: 1.0007 Percentage error: -0.067\n",
            "n: 1000000 intergeration value: 0.9999 Percentage error: 0.008\n"
          ],
          "name": "stdout"
        }
      ]
    },
    {
      "cell_type": "code",
      "metadata": {
        "id": "aQq8RrnP_H3u",
        "colab": {
          "base_uri": "https://localhost:8080/"
        },
        "outputId": "89ba2464-1a09-4052-a8df-cee8720c06a1"
      },
      "source": [
        "nls = [100, 1000, 10000, 100000, 1000000]\n",
        "a = 0\n",
        "b = 1\n",
        "\n",
        "for n in nls:\n",
        "\n",
        "  xgausssample = []\n",
        "  while len(xgausssample) < n:\n",
        "    x = np.random.normal(loc=0.5, scale=0.3)\n",
        "    if x > a and x < b:\n",
        "      xgausssample.append(x)\n",
        "\n",
        "  interval = ((b-a)/n) * (sum(f1(xgausssample)))\n",
        "  pererr = (1-interval)/1 * 100\n",
        "\n",
        "  print('n: %s intergeration value: %.4f Percentage error: %.3f' % (n, interval, pererr))"
      ],
      "execution_count": null,
      "outputs": [
        {
          "output_type": "stream",
          "text": [
            "n: 100 intergeration value: 0.9632 Percentage error: 3.679\n",
            "n: 1000 intergeration value: 0.9098 Percentage error: 9.017\n",
            "n: 10000 intergeration value: 0.9269 Percentage error: 7.310\n",
            "n: 100000 intergeration value: 0.9216 Percentage error: 7.839\n",
            "n: 1000000 intergeration value: 0.9206 Percentage error: 7.944\n"
          ],
          "name": "stdout"
        }
      ]
    },
    {
      "cell_type": "code",
      "metadata": {
        "id": "P2k8vJYkAC1O",
        "colab": {
          "base_uri": "https://localhost:8080/",
          "height": 286
        },
        "outputId": "7d0e674b-4eec-4731-8376-75f31d6cee7e"
      },
      "source": [
        "a = -2\n",
        "b = 2\n",
        "\n",
        "xls = np.linspace(a, b, 100)\n",
        "yls = f2(xls)\n",
        "\n",
        "plt.plot(xls,yls)"
      ],
      "execution_count": null,
      "outputs": [
        {
          "output_type": "execute_result",
          "data": {
            "text/plain": [
              "[<matplotlib.lines.Line2D at 0x7f6371480890>]"
            ]
          },
          "metadata": {
            "tags": []
          },
          "execution_count": 14
        },
        {
          "output_type": "display_data",
          "data": {
            "image/png": "[encoded data removed]",
            "text/plain": [
              "<Figure size 432x288 with 1 Axes>"
            ]
          },
          "metadata": {
            "tags": [],
            "needs_background": "light"
          }
        }
      ]
    },
    {
      "cell_type": "code",
      "metadata": {
        "id": "YjPxOVelAPQm",
        "colab": {
          "base_uri": "https://localhost:8080/"
        },
        "outputId": "ad6b5d43-3bb1-4199-b258-c35f3eeb490a"
      },
      "source": [
        "nls = [100, 1000, 10000, 100000, 1000000]\n",
        "a = -2\n",
        "b = 2\n",
        "\n",
        "for n in nls:\n",
        "  xsample = np.random.uniform(low = a, high = b, size = n)\n",
        "  interval = ((b-a)/n) * (sum(f2(xsample)))\n",
        "\n",
        "  print('n: %s intergeration value: %.4f' % (n, interval))"
      ],
      "execution_count": null,
      "outputs": [
        {
          "output_type": "stream",
          "text": [
            "n: 100 intergeration value: -3.6824\n",
            "n: 1000 intergeration value: -1.9935\n",
            "n: 10000 intergeration value: -2.5028\n",
            "n: 100000 intergeration value: -2.4923\n",
            "n: 1000000 intergeration value: -2.4593\n"
          ],
          "name": "stdout"
        }
      ]
    },
    {
      "cell_type": "code",
      "metadata": {
        "id": "uEAB6kJEAtQW",
        "colab": {
          "base_uri": "https://localhost:8080/"
        },
        "outputId": "6f78c8ff-4d41-4b6d-eb6a-4214bad68edb"
      },
      "source": [
        "nls = [100, 1000, 10000, 100000, 1000000]\n",
        "a = -2\n",
        "b = 2\n",
        "\n",
        "for n in nls:\n",
        "\n",
        "  xgausssample = []\n",
        "  while len(xgausssample) < n:\n",
        "    x = np.random.normal(loc=0.0, scale=0.5)\n",
        "    if x > a and x < b:\n",
        "      xgausssample.append(x)\n",
        "\n",
        "  interval = ((b-a)/n) * (sum(f2(xgausssample)))\n",
        "\n",
        "  print('n: %s intergeration value: %.4f' % (n, interval))"
      ],
      "execution_count": null,
      "outputs": [
        {
          "output_type": "stream",
          "text": [
            "n: 100 intergeration value: -9.4779\n",
            "n: 1000 intergeration value: -10.6657\n",
            "n: 10000 intergeration value: -10.5520\n",
            "n: 100000 intergeration value: -10.6147\n",
            "n: 1000000 intergeration value: -10.6155\n"
          ],
          "name": "stdout"
        }
      ]
    }
  ]
}