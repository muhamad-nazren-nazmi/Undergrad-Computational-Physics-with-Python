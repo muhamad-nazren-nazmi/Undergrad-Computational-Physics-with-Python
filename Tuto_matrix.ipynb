{
  "nbformat": 4,
  "nbformat_minor": 0,
  "metadata": {
    "colab": {
      "provenance": []
    },
    "kernelspec": {
      "name": "python3",
      "display_name": "Python 3"
    }
  },
  "cells": [
    {
      "cell_type": "code",
      "metadata": {
        "id": "flhxZZ2VIcyd"
      },
      "source": [
        "import numpy as np"
      ],
      "execution_count": null,
      "outputs": []
    },
    {
      "cell_type": "code",
      "metadata": {
        "colab": {
          "base_uri": "https://localhost:8080/"
        },
        "id": "oQoldJC6KUw1",
        "outputId": "d5378c0c-768d-4c0e-d92b-f014f169354e"
      },
      "source": [
        "np.identity(3)"
      ],
      "execution_count": null,
      "outputs": [
        {
          "output_type": "execute_result",
          "data": {
            "text/plain": [
              "array([[1., 0., 0.],\n",
              "       [0., 1., 0.],\n",
              "       [0., 0., 1.]])"
            ]
          },
          "metadata": {
            "tags": []
          },
          "execution_count": 2
        }
      ]
    },
    {
      "cell_type": "code",
      "metadata": {
        "colab": {
          "base_uri": "https://localhost:8080/"
        },
        "id": "83f847MXKakW",
        "outputId": "a2f71abf-b635-44f3-b99e-cacb76fbe42f"
      },
      "source": [
        "mat = [[2,0,0],[0,3,0],[0,0,4]]\n",
        "mat"
      ],
      "execution_count": null,
      "outputs": [
        {
          "output_type": "execute_result",
          "data": {
            "text/plain": [
              "[[2, 0, 0], [0, 3, 0], [0, 0, 4]]"
            ]
          },
          "metadata": {
            "tags": []
          },
          "execution_count": 3
        }
      ]
    },
    {
      "cell_type": "code",
      "metadata": {
        "colab": {
          "base_uri": "https://localhost:8080/",
          "height": 295
        },
        "id": "frxXc1dFI6xA",
        "outputId": "2ac00ad2-9c5b-424d-804b-f2de06e09047"
      },
      "source": [
        "#import libraries\n",
        "import numpy as np\n",
        "from matplotlib import pyplot as plt\n",
        "\n",
        "def func(xls):\n",
        "  return np.exp(np.sin(10*xls) + 1) + xls**3\n",
        "\n",
        "xls = np.linspace(-np.pi,np.pi,100)\n",
        "yls = []\n",
        "for i in range(len(xls)):\n",
        "  yls.append(func(xls[i]))\n",
        "\n",
        "plt.plot(xls,yls)\n",
        "plt.title('Plot of y vs x')\n",
        "plt.xlabel('x')\n",
        "plt.ylabel('y')\n",
        "plt.grid()\n",
        "plt.show()"
      ],
      "execution_count": null,
      "outputs": [
        {
          "output_type": "display_data",
          "data": {
            "image/png": "[encoded data removed]",
            "text/plain": [
              "<Figure size 432x288 with 1 Axes>"
            ]
          },
          "metadata": {
            "tags": [],
            "needs_background": "light"
          }
        }
      ]
    },
    {
      "cell_type": "code",
      "metadata": {
        "id": "bqP7afXsL_bY"
      },
      "source": [
        "from scipy.optimize import bisect, newton"
      ],
      "execution_count": null,
      "outputs": []
    },
    {
      "cell_type": "code",
      "metadata": {
        "colab": {
          "base_uri": "https://localhost:8080/"
        },
        "id": "mbwzbOKDMBrf",
        "outputId": "a34574ab-877a-465f-b72f-2a3fc0d2639a"
      },
      "source": [
        "bisect(func,-1.3,-1)"
      ],
      "execution_count": null,
      "outputs": [
        {
          "output_type": "execute_result",
          "data": {
            "text/plain": [
              "-1.2823176666690417"
            ]
          },
          "metadata": {
            "tags": []
          },
          "execution_count": 23
        }
      ]
    },
    {
      "cell_type": "code",
      "metadata": {
        "colab": {
          "base_uri": "https://localhost:8080/"
        },
        "id": "Ja851W88x-s8",
        "outputId": "54e86989-daef-4388-b339-579864866944"
      },
      "source": [
        "bisect(func,-2,-1.7)"
      ],
      "execution_count": null,
      "outputs": [
        {
          "output_type": "execute_result",
          "data": {
            "text/plain": [
              "-1.7984936487464436"
            ]
          },
          "metadata": {
            "tags": []
          },
          "execution_count": 21
        }
      ]
    },
    {
      "cell_type": "code",
      "metadata": {
        "colab": {
          "base_uri": "https://localhost:8080/"
        },
        "id": "vrR_YosEyT1H",
        "outputId": "2914d848-d70b-4861-d29b-9a9633092e06"
      },
      "source": [
        "bisect(func,-1.7,-1.3)"
      ],
      "execution_count": null,
      "outputs": [
        {
          "output_type": "execute_result",
          "data": {
            "text/plain": [
              "-1.6164296329501666"
            ]
          },
          "metadata": {
            "tags": []
          },
          "execution_count": 24
        }
      ]
    },
    {
      "cell_type": "code",
      "metadata": {
        "colab": {
          "base_uri": "https://localhost:8080/"
        },
        "id": "7KbIbSMuygwo",
        "outputId": "8826b2a5-9aa6-4c2e-f81c-e94c18a37ed3"
      },
      "source": [
        "newton(func,-2)"
      ],
      "execution_count": null,
      "outputs": [
        {
          "output_type": "execute_result",
          "data": {
            "text/plain": [
              "-1.6164296329495593"
            ]
          },
          "metadata": {
            "tags": []
          },
          "execution_count": 25
        }
      ]
    },
    {
      "cell_type": "code",
      "metadata": {
        "colab": {
          "base_uri": "https://localhost:8080/"
        },
        "id": "aJMKHeLezBWW",
        "outputId": "150c1596-d16e-48b0-9bb2-4583bb2ac652"
      },
      "source": [
        "newton(func,-1)"
      ],
      "execution_count": null,
      "outputs": [
        {
          "output_type": "execute_result",
          "data": {
            "text/plain": [
              "-1.2823176666693217"
            ]
          },
          "metadata": {
            "tags": []
          },
          "execution_count": 27
        }
      ]
    },
    {
      "cell_type": "code",
      "metadata": {
        "colab": {
          "base_uri": "https://localhost:8080/"
        },
        "id": "qlS4YaJ0zFyt",
        "outputId": "2ffb3bed-1673-4c29-ad1a-e4652cb61509"
      },
      "source": [
        "newton(func,-1.9)"
      ],
      "execution_count": null,
      "outputs": [
        {
          "output_type": "execute_result",
          "data": {
            "text/plain": [
              "-1.7984936487471315"
            ]
          },
          "metadata": {
            "tags": []
          },
          "execution_count": 31
        }
      ]
    },
    {
      "cell_type": "code",
      "metadata": {
        "id": "fVcHtJej06tO"
      },
      "source": [
        "n"
      ],
      "execution_count": null,
      "outputs": []
    }
  ]
}