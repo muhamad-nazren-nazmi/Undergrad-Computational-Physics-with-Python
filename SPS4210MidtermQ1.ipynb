{
  "nbformat": 4,
  "nbformat_minor": 0,
  "metadata": {
    "colab": {
      "provenance": []
    },
    "kernelspec": {
      "name": "python3",
      "display_name": "Python 3"
    },
    "language_info": {
      "name": "python"
    }
  },
  "cells": [
    {
      "cell_type": "markdown",
      "metadata": {
        "id": "V6wVTTOzXTtf"
      },
      "source": [
        "Name: Muhamad Nazren Nazmi Bin Muhamad Rusli\n",
        "\n",
        "Matric no: 1718151"
      ]
    },
    {
      "cell_type": "code",
      "metadata": {
        "id": "ziDSu_j6lrdZ"
      },
      "source": [
        "import numpy as np\n",
        "from multiprocessing import Process, Pipe\n",
        "import os\n",
        "import threading\n",
        "import time\n",
        "import matplotlib.pyplot as plt"
      ],
      "execution_count": null,
      "outputs": []
    },
    {
      "cell_type": "code",
      "metadata": {
        "colab": {
          "base_uri": "https://localhost:8080/"
        },
        "id": "-yNZe1lbT0c_",
        "outputId": "07dc587a-b31f-479f-d6ed-db2fcd15ea4e"
      },
      "source": [
        "def eq_piecewise(packet):\n",
        "    xls, yls, subpipe= packet\n",
        "    func = 3 * xls**2 * yls**2 - xls * yls + 1\n",
        "    pid = os.getpid()\n",
        "    tid = threading.get_ident()\n",
        "    print(\"pid = \", pid)\n",
        "    print(\"time = \", time.time())\n",
        "    subpipe.send(func)\n",
        "\n",
        "def calc_area(packet):\n",
        "    zls, subpipe= packet\n",
        "    regionzero = 0\n",
        "    regionone = 0\n",
        "\n",
        "    for i in range(100):\n",
        "        for j in range(100):\n",
        "            if zls[i][j] > np.pi:\n",
        "                zls[i][j] = 1\n",
        "\n",
        "            else:\n",
        "                zls[i][j] = 0\n",
        "\n",
        "\n",
        "    for i in range(100):\n",
        "        for j in range(100):\n",
        "\n",
        "            if zls[i][j] == 0:\n",
        "                regionzero += 1\n",
        "\n",
        "            else:\n",
        "                regionone += 1\n",
        "\n",
        "    ratio = (regionone / (regionone + regionzero))\n",
        "    totalarea = 10 * 10\n",
        "    whitezone = totalarea * ratio\n",
        "\n",
        "    pid = os.getpid()\n",
        "    tid = threading.get_ident()\n",
        "    print(\"pid = \", pid)\n",
        "    print(\"time = \", time.time())\n",
        "\n",
        "    subpipe.send(whitezone)\n",
        "\n",
        "\n",
        "if __name__ == '__main__':\n",
        "\n",
        "    eq_mainpipe, eq_subpipe = Pipe()\n",
        "    area_mainpipe, area_subpipe = Pipe()\n",
        "\n",
        "    xls = np.linspace(-5, 5, 100)\n",
        "    yls = np.linspace(-5, 5, 100)\n",
        "    X, Y = np.meshgrid(x, y)\n",
        "\n",
        "    eq_packet = (X, Y, eq_subpipe)\n",
        "    eq_process = Process(target=eq_piecewise, args=(eq_packet,))\n",
        "\n",
        "    eq_process.start()\n",
        "    Z = eq_mainpipe.recv()\n",
        "    eq_process.join()\n",
        "\n",
        "    area_packet = (Z, area_subpipe)\n",
        "    area_process = Process(target=calc_area, args=(area_packet,))\n",
        "\n",
        "    area_process.start()\n",
        "    white_area = area_mainpipe.recv()\n",
        "    area_process.join()\n",
        "\n",
        "    print(\"Total area = 100\")\n",
        "    print(\"Approximate area of white region = \", white_area)"
      ],
      "execution_count": null,
      "outputs": [
        {
          "output_type": "stream",
          "text": [
            "pid =  983\n",
            "time =  1622215919.3899379\n",
            "pid =  988\n",
            "time =  1622215919.4279134\n",
            "Total area = 100\n",
            "Approximate area of white region =  85.39999999999999\n"
          ],
          "name": "stdout"
        }
      ]
    },
    {
      "cell_type": "code",
      "metadata": {
        "colab": {
          "base_uri": "https://localhost:8080/",
          "height": 285
        },
        "id": "ENMY_XmJk0An",
        "outputId": "f39f6431-a2fa-4cd9-ed57-c89e3c05b65d"
      },
      "source": [
        "for i in range(len(xls)):\n",
        "  for j in range(len(yls)):\n",
        "\n",
        "    if Z[i][j] > np.pi:\n",
        "      Z[i][j] = 1\n",
        "\n",
        "    else:\n",
        "      Z[i][j] = 0\n",
        "\n",
        "plt.imshow(Z)"
      ],
      "execution_count": null,
      "outputs": [
        {
          "output_type": "execute_result",
          "data": {
            "text/plain": [
              "<matplotlib.image.AxesImage at 0x7fd9c9b85b50>"
            ]
          },
          "metadata": {
            "tags": []
          },
          "execution_count": 20
        },
        {
          "output_type": "display_data",
          "data": {
            "image/png": "[encoded data removed]",
            "text/plain": [
              "<Figure size 432x288 with 1 Axes>"
            ]
          },
          "metadata": {
            "tags": [],
            "needs_background": "light"
          }
        }
      ]
    }
  ]
}