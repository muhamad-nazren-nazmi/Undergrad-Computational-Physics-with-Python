{
  "nbformat": 4,
  "nbformat_minor": 0,
  "metadata": {
    "colab": {
      "provenance": []
    },
    "kernelspec": {
      "name": "python3",
      "display_name": "Python 3"
    }
  },
  "cells": [
    {
      "cell_type": "markdown",
      "metadata": {
        "id": "FbeNkhAPMsa2"
      },
      "source": [
        "Absolute error: ϵ=|x-x_approx | x is the actual value whereas x_approx is the approximate value of a quantity\n",
        "\n",
        "Relative error:\n",
        "η=ϵ/(|x|)\n",
        "\n"
      ]
    },
    {
      "cell_type": "code",
      "metadata": {
        "colab": {
          "base_uri": "https://localhost:8080/"
        },
        "id": "tJakBtw2JaqX",
        "outputId": "ff75c7e4-2ddd-4806-f441-561acf80f195"
      },
      "source": [
        "import math\n",
        "import numpy as np\n",
        "\n",
        "x = 22026.4657948\n",
        "\n",
        "x1 = 1 + 10 + (10**2)/(math.factorial(2)) + (10**3)/(math.factorial(3))\n",
        "abs_x1 = np.abs(x-x1)\n",
        "print(abs_x1)\n",
        "\n",
        "x2 = 1 + 10 + (10**2)/(math.factorial(2)) + (10**3)/(math.factorial(3)) + (10**4)/(math.factorial(4))\n",
        "abs_x2 = np.abs(x-x2)\n",
        "print(abs_x2)\n",
        "\n",
        "x3 = 1 + 10 + (10**2)/(math.factorial(2)) + (10**3)/(math.factorial(3)) + (10**4)/(math.factorial(4)) + (10**5)/(math.factorial(5))\n",
        "abs_x3 = np.abs(x-x3)\n",
        "print(abs_x3)\n",
        "\n",
        "print('\\n')\n",
        "\n",
        "print(abs_x1/x)\n",
        "print(abs_x2/x)\n",
        "print(abs_x3/x)"
      ],
      "execution_count": null,
      "outputs": [
        {
          "output_type": "stream",
          "text": [
            "21798.79912813333\n",
            "21382.132461466666\n",
            "20548.79912813333\n",
            "\n",
            "\n",
            "0.9896639493240711\n",
            "0.9707473119230301\n",
            "0.9329140371209477\n"
          ],
          "name": "stdout"
        }
      ]
    },
    {
      "cell_type": "code",
      "metadata": {
        "colab": {
          "base_uri": "https://localhost:8080/"
        },
        "id": "UIkj1nCNRYFM",
        "outputId": "c40f53c8-3765-44ef-dee0-8a34c23a0dae"
      },
      "source": [
        "massVal_A = [181.34E12, 89E12, 67E23, 102E12]\n",
        "massVal_B = [8, 9.0, 8, 10]\n",
        "\n",
        "list(zip(massVal_A, massVal_B))"
      ],
      "execution_count": null,
      "outputs": [
        {
          "output_type": "execute_result",
          "data": {
            "text/plain": [
              "[(181340000000000.0, 8),\n",
              " (89000000000000.0, 9.0),\n",
              " (6.7e+24, 8),\n",
              " (102000000000000.0, 10)]"
            ]
          },
          "metadata": {
            "tags": []
          },
          "execution_count": 14
        }
      ]
    },
    {
      "cell_type": "code",
      "metadata": {
        "colab": {
          "base_uri": "https://localhost:8080/"
        },
        "id": "XBeMok5lb61g",
        "outputId": "5be1f89f-c578-4fc4-9567-95da9ad34392"
      },
      "source": [
        "import numpy as np\n",
        "from scipy import constants\n",
        "CONST_PI = 3.142 #pi constant\n",
        "CONST_DEF = 45.90\n",
        "hbar = constants.h/2*CONST_PI # where constant.h is the plank constant\n",
        "6.62607004e-34\n",
        "massVal_A = [181.34E12, 89E12, 67E23, 102E12]\n",
        "massVal_B = [8, 9.0, 8, 10]\n",
        "def defusefunc(a,b):\n",
        "  devVal = a/(np.cos(b/CONST_PI)*hbar-a)*CONST_DEF\n",
        "  return np.abs(devVal)\n",
        "\n",
        "for a,b in zip(massVal_A, massVal_B):\n",
        "  print(defusefunc(a,b))\n",
        "\n",
        "181.34E12/(np.cos(8/CONST_PI)*hbar-181.34E12)\n",
        "np.cos(8/CONST_PI)\n",
        "np.cos(8/CONST_PI)*hbar"
      ],
      "execution_count": null,
      "outputs": [
        {
          "output_type": "stream",
          "text": [
            "45.9\n",
            "45.9\n",
            "45.9\n",
            "45.9\n"
          ],
          "name": "stdout"
        },
        {
          "output_type": "execute_result",
          "data": {
            "text/plain": [
              "-8.618068641131735e-34"
            ]
          },
          "metadata": {
            "tags": []
          },
          "execution_count": 28
        }
      ]
    },
    {
      "cell_type": "code",
      "metadata": {
        "colab": {
          "base_uri": "https://localhost:8080/"
        },
        "id": "lBK8FGoRN5VV",
        "outputId": "26857b8b-f3b6-4d20-9a04-2114bfaec51b"
      },
      "source": [
        "from scipy import constants\n",
        "\n",
        "(181.34E12)/(np.cos(8/3.142)*(constants.h/2*3.142)-181.34E12)"
      ],
      "execution_count": null,
      "outputs": [
        {
          "output_type": "execute_result",
          "data": {
            "text/plain": [
              "-1.0"
            ]
          },
          "metadata": {
            "tags": []
          },
          "execution_count": 19
        }
      ]
    },
    {
      "cell_type": "code",
      "metadata": {
        "colab": {
          "base_uri": "https://localhost:8080/"
        },
        "id": "SHxI4DUro-Sv",
        "outputId": "39b06082-c375-4485-9eae-fa74addfbadd"
      },
      "source": [
        "a = constants.h\n",
        "print(a)"
      ],
      "execution_count": null,
      "outputs": [
        {
          "output_type": "stream",
          "text": [
            "6.62607015e-34\n"
          ],
          "name": "stdout"
        }
      ]
    },
    {
      "cell_type": "markdown",
      "metadata": {
        "id": "FzON38bkJ1uh"
      },
      "source": [
        "Overflow and underflow are both errors resulting from a shortage of space. On the most basic level, they manifest in data types like integers and floating points.\n",
        "\n",
        "Unlike the physical world, the number stored in a computer exists in a discrete number of digits. When we make a calculation that results in an extra digit, we cannot simply append that to our result, so we get an overflow or underflow error.\n",
        "\n",
        "Overflow errors come up when working with integers and floating points, and underflow errors are generally just associated with floating points.\n",
        "\n",
        "Overflow indicates that we have done a calculation that resulted in a number larger than the largest number we can represent.\n",
        "\n",
        "When we use these in calculations that result in a smaller number than our least value, we again exceed our designated space"
      ]
    },
    {
      "cell_type": "code",
      "metadata": {
        "colab": {
          "base_uri": "https://localhost:8080/"
        },
        "id": "5NLsS1_kLC4I",
        "outputId": "4d67f6af-a98a-44ef-ea1c-d7918ec02552"
      },
      "source": [
        "np.finfo(float)"
      ],
      "execution_count": null,
      "outputs": [
        {
          "output_type": "execute_result",
          "data": {
            "text/plain": [
              "finfo(resolution=1e-15, min=-1.7976931348623157e+308, max=1.7976931348623157e+308, dtype=float64)"
            ]
          },
          "metadata": {
            "tags": []
          },
          "execution_count": 31
        }
      ]
    },
    {
      "cell_type": "code",
      "metadata": {
        "colab": {
          "base_uri": "https://localhost:8080/"
        },
        "id": "EuYeoM8lNGTg",
        "outputId": "60c13ec8-a0b8-4296-eb17-3819def42d1c"
      },
      "source": [
        "np.iinfo(int)"
      ],
      "execution_count": null,
      "outputs": [
        {
          "output_type": "execute_result",
          "data": {
            "text/plain": [
              "iinfo(min=-9223372036854775808, max=9223372036854775807, dtype=int64)"
            ]
          },
          "metadata": {
            "tags": []
          },
          "execution_count": 36
        }
      ]
    },
    {
      "cell_type": "markdown",
      "metadata": {
        "id": "NwXG8D0ljKFA"
      },
      "source": [
        "A roundoff error,[1] also called rounding error,[2] is the difference between the result produced by a given algorithm using exact arithmetic and the result produced by the same algorithm using finite-precision, rounded arithmetic.[3] Rounding errors are due to inexactness in the representation of real numbers and the arithmetic operations done with them. This is a form of quantization error.[4] When using approximation equations or algorithms, especially when using finitely many digits to represent real numbers (which in theory have infinitely many digits), one of the goals of numerical analysis is to estimate computation errors\n",
        "\n",
        "In short, there are two major facets of roundoff errors involved in numerical calculations:[7]\n",
        "\n",
        "Digital computers have magnitude and precision limits on their ability to represent numbers.\n",
        "Certain numerical manipulations are highly sensitive to roundoff errors. This can result from both mathematical considerations as well as from the way in which computers perform arithmetic operations.\n",
        "\n",
        "Truncation error is the error caused by approximating a mathematical process. Occasionally, by mistake, round-off error (the consequence of using finite precision floating point numbers on computers), is also called truncation error, especially if the number is rounded by chopping."
      ]
    },
    {
      "cell_type": "markdown",
      "metadata": {
        "id": "sfPgmv-xbYQe"
      },
      "source": [
        "How to avoid round off error\n",
        "1. Use Symbolic Computations When Possible\n",
        "- Performing computations symbolically is recommended because exact symbolic computations are not prone to round-off errors\n",
        "2. Perform Calculations with Increased Precision\n",
        "3. Compare Symbolic and Numeric Results\n",
        "4. Plot the Function or Expression"
      ]
    },
    {
      "cell_type": "code",
      "metadata": {
        "id": "pqBexMu7NInD",
        "colab": {
          "base_uri": "https://localhost:8080/"
        },
        "outputId": "f3dff262-8451-4ce9-f5d7-4ab8ff9fb1e7"
      },
      "source": [
        "import numpy as np\n",
        "\n",
        "a = np.array([[3.0001,5.0001,-6.9999], [6.0002,4.9999,-10.0001], [5.9999,10.0001,-11.999]])\n",
        "b = np.array([10.001,8.999,19.998])\n",
        "x = np.linalg.solve(a, b)\n",
        "x"
      ],
      "execution_count": null,
      "outputs": [
        {
          "output_type": "execute_result",
          "data": {
            "text/plain": [
              "array([-3.35781988e-01,  2.19891646e+00, -1.93964562e-03])"
            ]
          },
          "metadata": {
            "tags": []
          },
          "execution_count": 1
        }
      ]
    }
  ]
}