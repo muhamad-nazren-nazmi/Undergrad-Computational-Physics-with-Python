{
  "nbformat": 4,
  "nbformat_minor": 0,
  "metadata": {
    "colab": {
      "provenance": []
    },
    "kernelspec": {
      "name": "python3",
      "display_name": "Python 3"
    },
    "language_info": {
      "name": "python"
    }
  },
  "cells": [
    {
      "cell_type": "code",
      "metadata": {
        "id": "1n5Fmtg_uvj9"
      },
      "source": [
        "#Name: Muhamad Nazren Nazmi Bin Muhamad Rusli\n",
        "#Matric No: 1718151\n",
        "\n",
        "import numpy as np\n",
        "from matplotlib import pyplot as plt"
      ],
      "execution_count": null,
      "outputs": []
    },
    {
      "cell_type": "code",
      "metadata": {
        "colab": {
          "base_uri": "https://localhost:8080/",
          "height": 265
        },
        "id": "PQ88SiG_vhVO",
        "outputId": "63c014a0-cc55-43e2-ad00-067bbd35733a"
      },
      "source": [
        "def func(xls):\n",
        "  return np.exp(-xls*xls+1)/np.exp(xls*xls+1)\n",
        "\n",
        "a = -1  #lower domain\n",
        "b = 1   #upper domain\n",
        "\n",
        "xls = np.linspace(a,b,100)\n",
        "yls = []\n",
        "for i in range(len(xls)):\n",
        "  yls.append(func(xls[i]))\n",
        "\n",
        "plt.plot(xls,yls)\n",
        "plt.show()"
      ],
      "execution_count": null,
      "outputs": [
        {
          "output_type": "display_data",
          "data": {
            "image/png": "[encoded data removed]",
            "text/plain": [
              "<Figure size 432x288 with 1 Axes>"
            ]
          },
          "metadata": {
            "tags": [],
            "needs_background": "light"
          }
        }
      ]
    },
    {
      "cell_type": "code",
      "metadata": {
        "colab": {
          "base_uri": "https://localhost:8080/"
        },
        "id": "D83wR4MY6clx",
        "outputId": "e5b0e345-5366-47f9-a665-352dc979c428"
      },
      "source": [
        "nls = [100, 1000, 10000, 100000, 1000000]\n",
        "\n",
        "for n in nls:\n",
        "  xsample = np.random.random(size = n)\n",
        "  interval = ((b-a)/n)*(sum(func(xsample))) #Monte Carlo Integration\n",
        "  pererr = np.abs(1.196-interval)/1.196 * 100 #1.196 is the \"analytical\" result from integral calculator\n",
        "  print('Number of sample(n): %s, Integration value: %.4f, Percentage error: %.2f'%(n,interval,pererr))"
      ],
      "execution_count": null,
      "outputs": [
        {
          "output_type": "stream",
          "text": [
            "Number of sample(n): 100, Integration value: 1.0996, Percentage error: 8.06\n",
            "Number of sample(n): 1000, Integration value: 1.2271, Percentage error: 2.60\n",
            "Number of sample(n): 10000, Integration value: 1.2012, Percentage error: 0.43\n",
            "Number of sample(n): 100000, Integration value: 1.1960, Percentage error: 0.00\n",
            "Number of sample(n): 1000000, Integration value: 1.1967, Percentage error: 0.06\n"
          ],
          "name": "stdout"
        }
      ]
    },
    {
      "cell_type": "code",
      "metadata": {
        "id": "-mH6FXv8KkYp"
      },
      "source": [
        "def trapz(f,a,b,N):\n",
        "\n",
        "  xls = np.linspace(a,b,N+1)\n",
        "  yls = f(xls)\n",
        "  yls_right = yls[1:]\n",
        "  yls_left = yls[:-1]\n",
        "  dif = (b - a)/N\n",
        "  T = (dif/2) * np.sum(yls_right + yls_left)\n",
        "  return T"
      ],
      "execution_count": null,
      "outputs": []
    },
    {
      "cell_type": "code",
      "metadata": {
        "colab": {
          "base_uri": "https://localhost:8080/"
        },
        "id": "4oSXAlgVO8_H",
        "outputId": "acebaf7e-b72a-45e4-bb3e-af90c225ac04"
      },
      "source": [
        "nls = [100, 1000, 10000, 100000, 1000000]\n",
        "\n",
        "for n in nls:\n",
        "  Trapezoidal = trapz(func,a,b,n) #Trapezoidal method\n",
        "  pererr = np.abs(1.196-interval)/1.196 * 100 #1.196 is the \"analytical\" result from integral calculator\n",
        "  print('Number of sample(n): %s, Integration value: %.4f, Percentage error: %.2f'%(n,Trapezoidal,pererr))"
      ],
      "execution_count": null,
      "outputs": [
        {
          "output_type": "stream",
          "text": [
            "Number of sample(n): 100, Integration value: 1.1963, Percentage error: 0.06\n",
            "Number of sample(n): 1000, Integration value: 1.1963, Percentage error: 0.06\n",
            "Number of sample(n): 10000, Integration value: 1.1963, Percentage error: 0.06\n",
            "Number of sample(n): 100000, Integration value: 1.1963, Percentage error: 0.06\n",
            "Number of sample(n): 1000000, Integration value: 1.1963, Percentage error: 0.06\n"
          ],
          "name": "stdout"
        }
      ]
    }
  ]
}