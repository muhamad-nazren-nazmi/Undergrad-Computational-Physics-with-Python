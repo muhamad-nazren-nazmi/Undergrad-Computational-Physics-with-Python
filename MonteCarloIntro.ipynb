{
  "nbformat": 4,
  "nbformat_minor": 0,
  "metadata": {
    "colab": {
      "provenance": []
    },
    "kernelspec": {
      "name": "python3",
      "display_name": "Python 3"
    }
  },
  "cells": [
    {
      "cell_type": "code",
      "metadata": {
        "id": "ZPRFzfTU9pyk"
      },
      "source": [
        "import numpy as np\n",
        "from matplotlib import pyplot as plt"
      ],
      "execution_count": null,
      "outputs": []
    },
    {
      "cell_type": "code",
      "metadata": {
        "id": "weapYIzoEtFt"
      },
      "source": [
        "##3x^2\n",
        "def f1(x):\n",
        "  return 3*np.power(x,2)\n",
        "#integrate 3x^2 from 0 to 1 results in 1\n",
        "\n",
        "##x^3/2 + ln(x^2)\n",
        "def f2(x):\n",
        "  return np.power(x,3)/2 + np.log(np.power(x,2))"
      ],
      "execution_count": null,
      "outputs": []
    },
    {
      "cell_type": "code",
      "metadata": {
        "id": "I-OsVIFaF_xR"
      },
      "source": [
        "a = 0\n",
        "b = 1\n",
        "\n",
        "xls = np.linspace(a,b,100)\n",
        "yls = f1(xls)"
      ],
      "execution_count": null,
      "outputs": []
    },
    {
      "cell_type": "code",
      "metadata": {
        "colab": {
          "base_uri": "https://localhost:8080/",
          "height": 282
        },
        "id": "UoTW6D86GU96",
        "outputId": "92254d99-df32-4142-edf7-6ae20b2dbe94"
      },
      "source": [
        "plt.plot(xls,yls)"
      ],
      "execution_count": null,
      "outputs": [
        {
          "output_type": "execute_result",
          "data": {
            "text/plain": [
              "[<matplotlib.lines.Line2D at 0x7fb4583cd890>]"
            ]
          },
          "metadata": {
            "tags": []
          },
          "execution_count": 4
        },
        {
          "output_type": "display_data",
          "data": {
            "image/png": "[encoded data removed]",
            "text/plain": [
              "<Figure size 432x288 with 1 Axes>"
            ]
          },
          "metadata": {
            "tags": [],
            "needs_background": "light"
          }
        }
      ]
    },
    {
      "cell_type": "code",
      "metadata": {
        "colab": {
          "base_uri": "https://localhost:8080/"
        },
        "id": "PlVMpBzhGqU4",
        "outputId": "a7bad390-0651-47cc-c07a-e7eaf5058deb"
      },
      "source": [
        "n = 100     #n is the number of sample\n",
        "xsample = np.random.random(size = n)\n",
        "\n",
        "xsample"
      ],
      "execution_count": null,
      "outputs": [
        {
          "output_type": "execute_result",
          "data": {
            "text/plain": [
              "array([0.34670956, 0.89249298, 0.49911209, 0.10456499, 0.88351984,\n",
              "       0.54643662, 0.93010484, 0.37077347, 0.58370872, 0.05246387,\n",
              "       0.59937173, 0.48652127, 0.03010157, 0.63114171, 0.09148039,\n",
              "       0.87792026, 0.78077448, 0.93889906, 0.26263513, 0.18185659,\n",
              "       0.23560764, 0.84170102, 0.14415181, 0.44015784, 0.25422486,\n",
              "       0.55130372, 0.44166873, 0.7131587 , 0.85136438, 0.33693915,\n",
              "       0.87410377, 0.58759593, 0.39837013, 0.42868241, 0.3576632 ,\n",
              "       0.08026821, 0.08013035, 0.56618028, 0.02162417, 0.94406604,\n",
              "       0.8689615 , 0.1004638 , 0.44579378, 0.01672799, 0.56360432,\n",
              "       0.89278553, 0.22801444, 0.30884397, 0.32351288, 0.69327387,\n",
              "       0.06047132, 0.98441656, 0.50067887, 0.96010908, 0.81479535,\n",
              "       0.57749311, 0.67190689, 0.74179792, 0.85931503, 0.05936909,\n",
              "       0.74691544, 0.06274898, 0.96668808, 0.21024596, 0.69384204,\n",
              "       0.16186529, 0.88793667, 0.90418486, 0.85285703, 0.52581078,\n",
              "       0.67043412, 0.74935484, 0.25658041, 0.40317549, 0.57326734,\n",
              "       0.99649024, 0.24915433, 0.23577145, 0.86611781, 0.05200472,\n",
              "       0.4646173 , 0.79027149, 0.02612992, 0.08432687, 0.44610059,\n",
              "       0.23907608, 0.88994681, 0.7646573 , 0.32185848, 0.62161512,\n",
              "       0.62921875, 0.99349163, 0.80293241, 0.7967403 , 0.17335312,\n",
              "       0.30624427, 0.19501736, 0.39642967, 0.13902408, 0.89129555])"
            ]
          },
          "metadata": {
            "tags": []
          },
          "execution_count": 5
        }
      ]
    },
    {
      "cell_type": "code",
      "metadata": {
        "colab": {
          "base_uri": "https://localhost:8080/",
          "height": 418
        },
        "id": "_fO3OsgMHmbo",
        "outputId": "ca6c6d06-9e10-436a-fd07-c1844ed1e521"
      },
      "source": [
        "plt.hist(xsample,bins=25)"
      ],
      "execution_count": null,
      "outputs": [
        {
          "output_type": "execute_result",
          "data": {
            "text/plain": [
              "(array([6., 7., 2., 4., 3., 5., 3., 4., 3., 4., 5., 2., 3., 3., 6., 3., 2.,\n",
              "        3., 3., 4., 2., 8., 7., 3., 5.]),\n",
              " array([0.01672799, 0.05591848, 0.09510897, 0.13429946, 0.17348995,\n",
              "        0.21268044, 0.25187093, 0.29106142, 0.33025191, 0.3694424 ,\n",
              "        0.40863289, 0.44782338, 0.48701387, 0.52620436, 0.56539485,\n",
              "        0.60458534, 0.64377583, 0.68296632, 0.72215681, 0.7613473 ,\n",
              "        0.80053779, 0.83972828, 0.87891877, 0.91810926, 0.95729975,\n",
              "        0.99649024]),\n",
              " <a list of 25 Patch objects>)"
            ]
          },
          "metadata": {
            "tags": []
          },
          "execution_count": 6
        },
        {
          "output_type": "display_data",
          "data": {
            "image/png": "[encoded data removed]",
            "text/plain": [
              "<Figure size 432x288 with 1 Axes>"
            ]
          },
          "metadata": {
            "tags": [],
            "needs_background": "light"
          }
        }
      ]
    },
    {
      "cell_type": "code",
      "metadata": {
        "colab": {
          "base_uri": "https://localhost:8080/"
        },
        "id": "O_tif5DfHbJB",
        "outputId": "c6d1e74e-c839-43e4-e575-08fd6de2f935"
      },
      "source": [
        "#Monte Carlo integration formula\n",
        "\n",
        "interval = ((b - a)/n)*(sum(f1(xsample)))\n",
        "\n",
        "interval"
      ],
      "execution_count": null,
      "outputs": [
        {
          "output_type": "execute_result",
          "data": {
            "text/plain": [
              "1.0565129655222658"
            ]
          },
          "metadata": {
            "tags": []
          },
          "execution_count": 7
        }
      ]
    },
    {
      "cell_type": "code",
      "metadata": {
        "colab": {
          "base_uri": "https://localhost:8080/"
        },
        "id": "E8pn1OFcIKym",
        "outputId": "995f36b0-e2be-4710-a1cf-1926986d1201"
      },
      "source": [
        "#Percentage error\n",
        "\n",
        "pererr = abs(1 - interval)/1 * 100\n",
        "\n",
        "pererr"
      ],
      "execution_count": null,
      "outputs": [
        {
          "output_type": "execute_result",
          "data": {
            "text/plain": [
              "5.651296552226581"
            ]
          },
          "metadata": {
            "tags": []
          },
          "execution_count": 8
        }
      ]
    },
    {
      "cell_type": "code",
      "metadata": {
        "colab": {
          "base_uri": "https://localhost:8080/"
        },
        "id": "hwYnmTxxIlTH",
        "outputId": "5094abb2-6148-4322-e507-a7712178cd40"
      },
      "source": [
        "nls = [100,1000,10000,100000,1000000]\n",
        "a = 0\n",
        "b = 1\n",
        "\n",
        "for n in nls:\n",
        "  xsample = np.random.random(size = n)\n",
        "  interval = ((b - a)/n)*(sum(f1(xsample)))\n",
        "  pererr = abs(1 - interval)/1 * 100\n",
        "  print('n: %s integration value: %.4f Percentage error: %.3f' %(n,interval,pererr))"
      ],
      "execution_count": null,
      "outputs": [
        {
          "output_type": "stream",
          "text": [
            "n: 100 integration value: 1.0970 Percentage error: 9.703\n",
            "n: 1000 integration value: 0.9839 Percentage error: 1.607\n",
            "n: 10000 integration value: 1.0159 Percentage error: 1.592\n",
            "n: 100000 integration value: 0.9955 Percentage error: 0.452\n",
            "n: 1000000 integration value: 1.0005 Percentage error: 0.045\n"
          ],
          "name": "stdout"
        }
      ]
    },
    {
      "cell_type": "code",
      "metadata": {
        "colab": {
          "base_uri": "https://localhost:8080/"
        },
        "id": "EeeYEl0jKWDe",
        "outputId": "6158aa28-dc14-4029-a590-313526599ade"
      },
      "source": [
        "#Before we use random distributio now, we will use Gauss distribution\n",
        "\n",
        "xgausssample = []\n",
        "n = 1000\n",
        "\n",
        "while len(xgausssample) < n:\n",
        "  x = np.random.normal(loc=0.5,scale=0.3)   #assume mean (loc) is 0.5 and choose these numbers carefully so that our hist plot resembles normal dist\n",
        "  if x > a and x < b:   #we want to create sample between a and b\n",
        "    xgausssample.append(x)\n",
        "\n",
        "print(len(xgausssample))\n",
        "print(min(xgausssample))\n",
        "print(max(xgausssample))"
      ],
      "execution_count": null,
      "outputs": [
        {
          "output_type": "stream",
          "text": [
            "1000\n",
            "0.005604988718520276\n",
            "0.9962042023656945\n"
          ],
          "name": "stdout"
        }
      ]
    },
    {
      "cell_type": "code",
      "metadata": {
        "colab": {
          "base_uri": "https://localhost:8080/",
          "height": 418
        },
        "id": "ocXAC3j2Mr--",
        "outputId": "72fad43a-3800-4f8f-d9b4-0bb8f4d507ea"
      },
      "source": [
        "plt.hist(xgausssample,bins=25)"
      ],
      "execution_count": null,
      "outputs": [
        {
          "output_type": "execute_result",
          "data": {
            "text/plain": [
              "(array([17., 19., 17., 23., 32., 39., 41., 54., 53., 38., 54., 73., 61.,\n",
              "        59., 52., 53., 37., 53., 41., 36., 50., 28., 28., 24., 18.]),\n",
              " array([0.00560499, 0.04522896, 0.08485293, 0.12447689, 0.16410086,\n",
              "        0.20372483, 0.2433488 , 0.28297277, 0.32259674, 0.36222071,\n",
              "        0.40184467, 0.44146864, 0.48109261, 0.52071658, 0.56034055,\n",
              "        0.59996452, 0.63958849, 0.67921245, 0.71883642, 0.75846039,\n",
              "        0.79808436, 0.83770833, 0.8773323 , 0.91695627, 0.95658023,\n",
              "        0.9962042 ]),\n",
              " <a list of 25 Patch objects>)"
            ]
          },
          "metadata": {
            "tags": []
          },
          "execution_count": 16
        },
        {
          "output_type": "display_data",
          "data": {
            "image/png": "[encoded data removed]",
            "text/plain": [
              "<Figure size 432x288 with 1 Axes>"
            ]
          },
          "metadata": {
            "tags": [],
            "needs_background": "light"
          }
        }
      ]
    },
    {
      "cell_type": "code",
      "metadata": {
        "colab": {
          "base_uri": "https://localhost:8080/"
        },
        "id": "bn3S0QXvM6e4",
        "outputId": "526a898b-9ca3-4567-a423-ef0f05fa8ce6"
      },
      "source": [
        "gaussinterval = ((b - a)/n)*(sum(f1(xgausssample)))\n",
        "\n",
        "gaussinterval"
      ],
      "execution_count": null,
      "outputs": [
        {
          "output_type": "execute_result",
          "data": {
            "text/plain": [
              "0.9583282880642344"
            ]
          },
          "metadata": {
            "tags": []
          },
          "execution_count": 17
        }
      ]
    },
    {
      "cell_type": "code",
      "metadata": {
        "colab": {
          "base_uri": "https://localhost:8080/"
        },
        "id": "9zo5Y84MNs2K",
        "outputId": "4b21c92d-c1a0-4b86-e8fa-8bd557af5a36"
      },
      "source": [
        "pererr = abs(1 - gaussinterval)/1 * 100\n",
        "\n",
        "pererr"
      ],
      "execution_count": null,
      "outputs": [
        {
          "output_type": "execute_result",
          "data": {
            "text/plain": [
              "4.167171193576557"
            ]
          },
          "metadata": {
            "tags": []
          },
          "execution_count": 18
        }
      ]
    },
    {
      "cell_type": "code",
      "metadata": {
        "colab": {
          "base_uri": "https://localhost:8080/"
        },
        "id": "52jSNeIMN-Ip",
        "outputId": "9b950143-d3bc-40d8-f15a-be0ea50b5bf6"
      },
      "source": [
        "nls = [100,1000,10000,100000,1000000]\n",
        "a = 0\n",
        "b = 1\n",
        "\n",
        "for n in nls:\n",
        "  xgausssample = []\n",
        "  while len(xgausssample) < n:\n",
        "    x = np.random.normal(loc=0.5,scale=0.3)   #assume mean (loc) is 0.5 and choose these numbers carefully so that our hist plot resembles normal dist\n",
        "    if x > a and x < b:   #we want to create sample between a and b\n",
        "      xgausssample.append(x)\n",
        "  gaussinterval = ((b - a)/n)*(sum(f1(xgausssample)))\n",
        "  pererr = abs(1 - gaussinterval)/1 * 100\n",
        "  print('n: %s integration value: %.4f Percentage error: %.3f' %(n,gaussinterval,pererr))"
      ],
      "execution_count": null,
      "outputs": [
        {
          "output_type": "stream",
          "text": [
            "n: 100 integration value: 0.9539 Percentage error: 4.610\n",
            "n: 1000 integration value: 0.9101 Percentage error: 8.987\n",
            "n: 10000 integration value: 0.9211 Percentage error: 7.890\n",
            "n: 100000 integration value: 0.9204 Percentage error: 7.964\n",
            "n: 1000000 integration value: 0.9200 Percentage error: 7.996\n"
          ],
          "name": "stdout"
        }
      ]
    },
    {
      "cell_type": "code",
      "metadata": {
        "id": "BCGvxONqOLLD"
      },
      "source": [],
      "execution_count": null,
      "outputs": []
    }
  ]
}